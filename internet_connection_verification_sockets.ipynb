{
  "cells": [
    {
      "cell_type": "markdown",
      "metadata": {
        "id": "ekJdj4jTcaI7"
      },
      "source": [
        "This code is made to check your internet connection using sockets"
      ]
    },
    {
      "cell_type": "code",
      "execution_count": null,
      "metadata": {
        "colab": {
          "base_uri": "https://localhost:8080/"
        },
        "id": "qJRgd83qawR7",
        "outputId": "6cf87e00-f1ec-43db-d64e-22543bbadbbf"
      },
      "outputs": [
        {
          "name": "stdout",
          "output_type": "stream",
          "text": [
            "internet works fine\n"
          ]
        }
      ],
      "source": [
        "import socket,warnings\n",
        "try:\n",
        "    #set the default timeout for socket operations to 1 second. If a socket operation takes more than 1s to complete, it will be considered unsuccessful.\n",
        "    socket.setdefaulttimeout(1)\n",
        "    #created a socket object, where socket.AF_INET specifies you're using IPv4 family of adresses and socket.SOCK_STREAM specifies that is is a TCP type of connection\n",
        "    socket.socket(socket.AF_INET,socket.SOCK_STREAM).connect(('1.1.1.1', 53)) #then they try yo connect on the 1.1.1.1 IP adress on the port 53\n",
        "    print(\"internet works fine\")\n",
        "except socket.error as ex: raise Exception(\"STOP: No internet. Click '>|' in top right and set 'Internet' switch to on\")\n"
      ]
    }
  ],
  "metadata": {
    "colab": {
      "provenance": []
    },
    "kernelspec": {
      "display_name": "Python 3",
      "name": "python3"
    },
    "language_info": {
      "name": "python"
    }
  },
  "nbformat": 4,
  "nbformat_minor": 0
}
