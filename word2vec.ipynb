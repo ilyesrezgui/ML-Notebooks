{
  "nbformat": 4,
  "nbformat_minor": 0,
  "metadata": {
    "colab": {
      "provenance": [],
      "gpuType": "T4",
      "authorship_tag": "ABX9TyNXwodzfWwKxSFE5BefC5mF",
      "include_colab_link": true
    },
    "kernelspec": {
      "name": "python3",
      "display_name": "Python 3"
    },
    "language_info": {
      "name": "python"
    },
    "accelerator": "GPU"
  },
  "cells": [
    {
      "cell_type": "markdown",
      "metadata": {
        "id": "view-in-github",
        "colab_type": "text"
      },
      "source": [
        "<a href=\"https://colab.research.google.com/github/ilyesrezgui/ML-Notebooks/blob/master/word2vec.ipynb\" target=\"_parent\"><img src=\"https://colab.research.google.com/assets/colab-badge.svg\" alt=\"Open In Colab\"/></a>"
      ]
    },
    {
      "cell_type": "markdown",
      "source": [
        "This notebook is made for the purpose of understanding word-embedding models using the gensim library."
      ],
      "metadata": {
        "id": "CvZFZ6nHmy2H"
      }
    },
    {
      "cell_type": "code",
      "execution_count": 3,
      "metadata": {
        "id": "zAa6Aw7og9js"
      },
      "outputs": [],
      "source": [
        "!pip install --upgrade gensim -q\n",
        "!pip install matplotlib -q"
      ]
    },
    {
      "cell_type": "code",
      "source": [
        "import gensim\n",
        "from gensim.models import word2vec\n",
        "from gensim.models.word2vec import Word2Vec\n",
        "import numpy as np\n",
        "import matplotlib.pyplot as plt\n",
        "import pandas as pd\n",
        "import spacy\n",
        "import string"
      ],
      "metadata": {
        "id": "SnSBWlgrg_S8"
      },
      "execution_count": 4,
      "outputs": []
    },
    {
      "cell_type": "markdown",
      "source": [
        "* The gensim library offers different models for langugae understanding.\n",
        "Each of the models shown down this sell was trained on a different dataset.\n",
        "\n",
        "* **fasttext-wiki-news-subwords-300** : Trained on Wikpedia + news , treats not only words but also subwords.\n",
        "\n",
        "* **conceptnet-numberbatch-17-06-300** : trained to capture the relationships between words and concepts using a vast amount of linguistic and encyclopedic information from various sources, including ConceptNet (a semantic network) and various text data.\n",
        "\n",
        "* **word2vec-ruscorpora-300**  Trained on Russian text from the Russian National Corpus. This model is specifically designed for Russian language text analysis.\n",
        "\n",
        "* **word2vec-google-news-300**: Trained on a large corpus of news articles.\n",
        "\n",
        "* **glove-wiki-gigaword-50** : trained on a mixture of Wikipedia and news text. The number 50 represent the dimensions of the word vectors.\n",
        "\n",
        "* **glove-wiki-gigaword-100**: trained on a mixture of Wikipedia and news text.The number 100 represent the dimensions of the word vectors.\n",
        "\n",
        "* **glove-wiki-gigaword-200**: trained on a mixture of Wikipedia and news text.The number 200 represent the dimensions of the word vectors.\n",
        "\n",
        "* **glove-wiki-gigaword-300**: trained on a mixture of Wikipedia and news text.\n",
        "The number 300 represent the dimensions of the word vectors.\n",
        "\n",
        "* **glove-twitter-25** : trained on Twitter text. The number 25 represent the dimensions of the word vectors.\n",
        "\n",
        "* **glove-twitter-50**: trained on Twitter text. The number 50 represent the dimensions of the word vectors.\n",
        "\n",
        "* **glove-twitter-100**: trained on Twitter text. The number 100 represent the dimensions of the word vectors.\n",
        "\n",
        "* **glove-twitter-200**: trained on Twitter text. The number 200 in their names represent the dimensions of the word vectors.\n"
      ],
      "metadata": {
        "id": "hOodE1Kyh25f"
      }
    },
    {
      "cell_type": "code",
      "source": [
        "import gensim.downloader as api\n",
        "print(list(gensim.downloader.info()['models'].keys()))"
      ],
      "metadata": {
        "colab": {
          "base_uri": "https://localhost:8080/"
        },
        "id": "JQqJU0sMhLF9",
        "outputId": "f9fab924-7fbd-404c-c5a5-456dfb30f41e"
      },
      "execution_count": 5,
      "outputs": [
        {
          "output_type": "stream",
          "name": "stdout",
          "text": [
            "['fasttext-wiki-news-subwords-300', 'conceptnet-numberbatch-17-06-300', 'word2vec-ruscorpora-300', 'word2vec-google-news-300', 'glove-wiki-gigaword-50', 'glove-wiki-gigaword-100', 'glove-wiki-gigaword-200', 'glove-wiki-gigaword-300', 'glove-twitter-25', 'glove-twitter-50', 'glove-twitter-100', 'glove-twitter-200', '__testing_word2vec-matrix-synopsis']\n"
          ]
        }
      ]
    },
    {
      "cell_type": "code",
      "source": [
        "model = api.load('glove-twitter-50')"
      ],
      "metadata": {
        "colab": {
          "base_uri": "https://localhost:8080/"
        },
        "id": "25Yu4BoInBVA",
        "outputId": "e2e79f14-81ac-4b87-ca68-dfe7c180b80f"
      },
      "execution_count": 6,
      "outputs": [
        {
          "output_type": "stream",
          "name": "stdout",
          "text": [
            "[=================================================-] 99.3% 198.2/199.5MB downloaded\n"
          ]
        }
      ]
    },
    {
      "cell_type": "code",
      "source": [
        "vector=model[\"machine\"]"
      ],
      "metadata": {
        "id": "6QdkeQvLnMGo"
      },
      "execution_count": 8,
      "outputs": []
    },
    {
      "cell_type": "code",
      "source": [
        "len(vector)"
      ],
      "metadata": {
        "colab": {
          "base_uri": "https://localhost:8080/"
        },
        "id": "_a9DvBqgnrAo",
        "outputId": "b60f5bc0-27b1-4e21-9983-0c1ca5dca0bb"
      },
      "execution_count": 9,
      "outputs": [
        {
          "output_type": "execute_result",
          "data": {
            "text/plain": [
              "50"
            ]
          },
          "metadata": {},
          "execution_count": 9
        }
      ]
    }
  ]
}