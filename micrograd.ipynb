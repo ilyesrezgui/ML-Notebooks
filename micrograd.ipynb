{
  "nbformat": 4,
  "nbformat_minor": 0,
  "metadata": {
    "colab": {
      "provenance": [],
      "gpuType": "T4",
      "authorship_tag": "ABX9TyNuTnMuGaDGA5tDmFF918nH",
      "include_colab_link": true
    },
    "kernelspec": {
      "name": "python3",
      "display_name": "Python 3"
    },
    "language_info": {
      "name": "python"
    },
    "accelerator": "GPU"
  },
  "cells": [
    {
      "cell_type": "markdown",
      "metadata": {
        "id": "view-in-github",
        "colab_type": "text"
      },
      "source": [
        "<a href=\"https://colab.research.google.com/github/ilyesrezgui/ML-Notebooks/blob/master/micrograd.ipynb\" target=\"_parent\"><img src=\"https://colab.research.google.com/assets/colab-badge.svg\" alt=\"Open In Colab\"/></a>"
      ]
    },
    {
      "cell_type": "markdown",
      "source": [
        "This notebook was written following Andrej karpathy's course on building a micrograd.\n",
        "[The spelled-out intro to neural networks and backpropagation: building micrograd](https://www.youtube.com/watch?v=VMj-3S1tku0&list=PLAqhIrjkxbuWI23v9cThsA9GvCAUhRvKZ)\n",
        "\n",
        "I have added code blocks to experiment more with the course and commented for better explanation.\n",
        "\n"
      ],
      "metadata": {
        "id": "LGHszqyL7mxU"
      }
    },
    {
      "cell_type": "code",
      "execution_count": 2,
      "metadata": {
        "id": "J03Ptrq0TFmr"
      },
      "outputs": [],
      "source": [
        "import math\n",
        "import numpy as np\n",
        "import matplotlib.pyplot as plt"
      ]
    },
    {
      "cell_type": "code",
      "source": [
        "#We're gonna build a value object\n",
        "class Value:\n",
        "  def __init__(self,data,_children=(),_op='',label=''):\n",
        "    self.grad=0 # this variable is used to keep track of derivative, being intialized to 0 mean that the gradient  has no effect on the output if we increase it decrease it\n",
        "    self.data=data\n",
        "    self._prev=set(_children)\n",
        "    self._op = _op\n",
        "    self.label=label\n",
        "\n",
        "  def __repr__(self):\n",
        "    #this is a built in method that allows you to print the vlaues of an object by simply calling it, in this case, when you create a value object from the Value class and you\n",
        "    #initate it with a value1=Value(30) for example , when you call value(1) , it will return a string\n",
        "    return f\"Value(data={self.data})\"\n",
        "  # we defined this __add__ method , because python dosen't know how to add two Value objects, that is why we deined a method with __ so that when we use + python with internally call this method\n",
        "  def __add__(self,other):\n",
        "    out= Value(self.data+other.data,(self,other),'+',)\n",
        "    return out\n",
        "  def __mul__(self,other):\n",
        "    out= Value(self.data*other.data,(self,other),'*')\n",
        "    return out\n",
        "  def __sub__(self,other):\n",
        "    out= Value(self.data- other.data,(self,other),'-')\n",
        "    return out\n",
        "\n",
        "\n"
      ],
      "metadata": {
        "id": "QdzNCUG4V5B6"
      },
      "execution_count": 6,
      "outputs": []
    },
    {
      "cell_type": "code",
      "source": [
        "a=Value(2.0,label='a')\n",
        "b=Value(-3.0,label='b')\n",
        "c=Value(10.0,label='c')\n",
        "e=a*b\n",
        "e.label='e'\n",
        "d=e+c\n",
        "d.label='d'\n",
        "d._prev # is equal to what are the cildren of d, which are  the result of a*b and c\n",
        "f=Value(-2.0,label='f')\n",
        "L=d*f\n",
        "L.label='L'"
      ],
      "metadata": {
        "id": "Q-YYY7UjWE4g"
      },
      "execution_count": 12,
      "outputs": []
    },
    {
      "cell_type": "code",
      "source": [
        "d._op"
      ],
      "metadata": {
        "colab": {
          "base_uri": "https://localhost:8080/",
          "height": 36
        },
        "id": "LTAigJIPWPXP",
        "outputId": "da2c795a-7550-4c56-aec2-34148c425b8c"
      },
      "execution_count": 8,
      "outputs": [
        {
          "output_type": "execute_result",
          "data": {
            "text/plain": [
              "'+'"
            ],
            "application/vnd.google.colaboratory.intrinsic+json": {
              "type": "string"
            }
          },
          "metadata": {},
          "execution_count": 8
        }
      ]
    },
    {
      "cell_type": "code",
      "source": [
        "#at this stage we can say that we're bulding out our own data structure that captures the mathemathical expressions, in addition to the values that resulated in creating an object."
      ],
      "metadata": {
        "id": "Po0h0gnTWa82"
      },
      "execution_count": 9,
      "outputs": []
    },
    {
      "cell_type": "code",
      "source": [
        "# all this code is written to visualize the graph of nodes\n",
        "from graphviz import Digraph\n",
        "def trace(root):\n",
        "  # builds a set of all nodes and edges in a graph\n",
        "  nodes, edges = set(), set()\n",
        "  def build(v):\n",
        "    if v not in nodes:\n",
        "      nodes.add(v)\n",
        "      for child in v._prev:\n",
        "        edges.add((child, v))\n",
        "        build(child)\n",
        "  build(root)\n",
        "  return nodes, edges\n",
        "\n",
        "def draw_dot(root):\n",
        "  dot = Digraph(format='svg', graph_attr={'rankdir': 'LR'}) # LR = left to right\n",
        "\n",
        "  nodes, edges = trace(root)\n",
        "  for n in nodes:\n",
        "    uid = str(id(n))\n",
        "    # for any value in the graph, create a rectangular ('record') node for it\n",
        "    dot.node(name = uid, label = \"{ %s| data %.4f | grad %.4f }\" % (n.label,n.data,n.grad), shape='record')\n",
        "    if n._op:\n",
        "      # if this value is a result of some operation, create an op node for it\n",
        "      dot.node(name = uid + n._op, label = n._op)\n",
        "      # and connect this node to it\n",
        "      dot.edge(uid + n._op, uid)\n",
        "\n",
        "  for n1, n2 in edges:\n",
        "    # connect n1 to the op node of n2\n",
        "    dot.edge(str(id(n1)), str(id(n2)) + n2._op)\n",
        "\n",
        "  return dot\n"
      ],
      "metadata": {
        "id": "6g1hUHpXWzrQ"
      },
      "execution_count": 10,
      "outputs": []
    },
    {
      "cell_type": "code",
      "source": [
        "draw_dot(L)\n",
        "# what we did is build a forward pass that its output is equal to -8\n",
        "# IN NEURAL NETWORKS WE WILL BE VERY MUCH INTERESTED ON the value of the loss function F with respect to all the weights in the forward pass. so we need to know how these weights\n",
        "#impact the result L . in other words we will be interested in the value of derivative of L with respect to some of leaf nodes\n",
        "# Why not with respect to all leaf nodes ? well beacue some of these leaf nodes represnt the data, and the data is fixed so we don't have the need to change it.\n",
        "\n",
        "\n",
        "\n",
        "\n",
        "\n",
        "# the grad represnt the derivative of the output  \"L\" with respect to one node\n",
        "# it is like if i chnage L by a small value h how much would \"node\" changes"
      ],
      "metadata": {
        "colab": {
          "base_uri": "https://localhost:8080/",
          "height": 212
        },
        "id": "B3FO3D49o3qD",
        "outputId": "28a463cb-b923-4450-e1a4-c56a0eac469d"
      },
      "execution_count": 11,
      "outputs": [
        {
          "output_type": "execute_result",
          "data": {
            "image/svg+xml": "<?xml version=\"1.0\" encoding=\"UTF-8\" standalone=\"no\"?>\n<!DOCTYPE svg PUBLIC \"-//W3C//DTD SVG 1.1//EN\"\n \"http://www.w3.org/Graphics/SVG/1.1/DTD/svg11.dtd\">\n<!-- Generated by graphviz version 2.43.0 (0)\n -->\n<!-- Title: %3 Pages: 1 -->\n<svg width=\"1143pt\" height=\"128pt\"\n viewBox=\"0.00 0.00 1143.00 128.00\" xmlns=\"http://www.w3.org/2000/svg\" xmlns:xlink=\"http://www.w3.org/1999/xlink\">\n<g id=\"graph0\" class=\"graph\" transform=\"scale(1 1) rotate(0) translate(4 124)\">\n<title>%3</title>\n<polygon fill=\"white\" stroke=\"transparent\" points=\"-4,4 -4,-124 1139,-124 1139,4 -4,4\"/>\n<!-- 136421389346864 -->\n<g id=\"node1\" class=\"node\">\n<title>136421389346864</title>\n<polygon fill=\"none\" stroke=\"black\" points=\"948,-54.5 948,-90.5 1135,-90.5 1135,-54.5 948,-54.5\"/>\n<text text-anchor=\"middle\" x=\"958\" y=\"-68.8\" font-family=\"Times,serif\" font-size=\"14.00\"> </text>\n<polyline fill=\"none\" stroke=\"black\" points=\"968,-54.5 968,-90.5 \"/>\n<text text-anchor=\"middle\" x=\"1010.5\" y=\"-68.8\" font-family=\"Times,serif\" font-size=\"14.00\">data &#45;8.0000</text>\n<polyline fill=\"none\" stroke=\"black\" points=\"1053,-54.5 1053,-90.5 \"/>\n<text text-anchor=\"middle\" x=\"1094\" y=\"-68.8\" font-family=\"Times,serif\" font-size=\"14.00\">grad 0.0000</text>\n</g>\n<!-- 136421389346864* -->\n<g id=\"node2\" class=\"node\">\n<title>136421389346864*</title>\n<ellipse fill=\"none\" stroke=\"black\" cx=\"885\" cy=\"-72.5\" rx=\"27\" ry=\"18\"/>\n<text text-anchor=\"middle\" x=\"885\" y=\"-68.8\" font-family=\"Times,serif\" font-size=\"14.00\">*</text>\n</g>\n<!-- 136421389346864*&#45;&gt;136421389346864 -->\n<g id=\"edge1\" class=\"edge\">\n<title>136421389346864*&#45;&gt;136421389346864</title>\n<path fill=\"none\" stroke=\"black\" d=\"M912.21,-72.5C919.73,-72.5 928.43,-72.5 937.67,-72.5\"/>\n<polygon fill=\"black\" stroke=\"black\" points=\"937.89,-76 947.89,-72.5 937.89,-69 937.89,-76\"/>\n</g>\n<!-- 136421382454336 -->\n<g id=\"node3\" class=\"node\">\n<title>136421382454336</title>\n<polygon fill=\"none\" stroke=\"black\" points=\"2.5,-83.5 2.5,-119.5 187.5,-119.5 187.5,-83.5 2.5,-83.5\"/>\n<text text-anchor=\"middle\" x=\"14\" y=\"-97.8\" font-family=\"Times,serif\" font-size=\"14.00\">a</text>\n<polyline fill=\"none\" stroke=\"black\" points=\"25.5,-83.5 25.5,-119.5 \"/>\n<text text-anchor=\"middle\" x=\"65.5\" y=\"-97.8\" font-family=\"Times,serif\" font-size=\"14.00\">data 2.0000</text>\n<polyline fill=\"none\" stroke=\"black\" points=\"105.5,-83.5 105.5,-119.5 \"/>\n<text text-anchor=\"middle\" x=\"146.5\" y=\"-97.8\" font-family=\"Times,serif\" font-size=\"14.00\">grad 0.0000</text>\n</g>\n<!-- 136421389344848* -->\n<g id=\"node5\" class=\"node\">\n<title>136421389344848*</title>\n<ellipse fill=\"none\" stroke=\"black\" cx=\"253\" cy=\"-73.5\" rx=\"27\" ry=\"18\"/>\n<text text-anchor=\"middle\" x=\"253\" y=\"-69.8\" font-family=\"Times,serif\" font-size=\"14.00\">*</text>\n</g>\n<!-- 136421382454336&#45;&gt;136421389344848* -->\n<g id=\"edge4\" class=\"edge\">\n<title>136421382454336&#45;&gt;136421389344848*</title>\n<path fill=\"none\" stroke=\"black\" d=\"M187.65,-85.05C197.94,-83.2 207.91,-81.41 216.81,-79.82\"/>\n<polygon fill=\"black\" stroke=\"black\" points=\"217.48,-83.25 226.71,-78.04 216.25,-76.36 217.48,-83.25\"/>\n</g>\n<!-- 136421389344848 -->\n<g id=\"node4\" class=\"node\">\n<title>136421389344848</title>\n<polygon fill=\"none\" stroke=\"black\" points=\"317,-55.5 317,-91.5 507,-91.5 507,-55.5 317,-55.5\"/>\n<text text-anchor=\"middle\" x=\"328.5\" y=\"-69.8\" font-family=\"Times,serif\" font-size=\"14.00\">e</text>\n<polyline fill=\"none\" stroke=\"black\" points=\"340,-55.5 340,-91.5 \"/>\n<text text-anchor=\"middle\" x=\"382.5\" y=\"-69.8\" font-family=\"Times,serif\" font-size=\"14.00\">data &#45;6.0000</text>\n<polyline fill=\"none\" stroke=\"black\" points=\"425,-55.5 425,-91.5 \"/>\n<text text-anchor=\"middle\" x=\"466\" y=\"-69.8\" font-family=\"Times,serif\" font-size=\"14.00\">grad 0.0000</text>\n</g>\n<!-- 136421389346672+ -->\n<g id=\"node9\" class=\"node\">\n<title>136421389346672+</title>\n<ellipse fill=\"none\" stroke=\"black\" cx=\"571\" cy=\"-45.5\" rx=\"27\" ry=\"18\"/>\n<text text-anchor=\"middle\" x=\"571\" y=\"-41.8\" font-family=\"Times,serif\" font-size=\"14.00\">+</text>\n</g>\n<!-- 136421389344848&#45;&gt;136421389346672+ -->\n<g id=\"edge6\" class=\"edge\">\n<title>136421389344848&#45;&gt;136421389346672+</title>\n<path fill=\"none\" stroke=\"black\" d=\"M507.05,-56.73C516.89,-54.97 526.39,-53.28 534.9,-51.76\"/>\n<polygon fill=\"black\" stroke=\"black\" points=\"535.52,-55.2 544.75,-50 534.29,-48.31 535.52,-55.2\"/>\n</g>\n<!-- 136421389344848*&#45;&gt;136421389344848 -->\n<g id=\"edge2\" class=\"edge\">\n<title>136421389344848*&#45;&gt;136421389344848</title>\n<path fill=\"none\" stroke=\"black\" d=\"M280.28,-73.5C288.05,-73.5 297.08,-73.5 306.68,-73.5\"/>\n<polygon fill=\"black\" stroke=\"black\" points=\"306.88,-77 316.88,-73.5 306.88,-70 306.88,-77\"/>\n</g>\n<!-- 136421389337696 -->\n<g id=\"node6\" class=\"node\">\n<title>136421389337696</title>\n<polygon fill=\"none\" stroke=\"black\" points=\"634,-82.5 634,-118.5 822,-118.5 822,-82.5 634,-82.5\"/>\n<text text-anchor=\"middle\" x=\"644.5\" y=\"-96.8\" font-family=\"Times,serif\" font-size=\"14.00\">f</text>\n<polyline fill=\"none\" stroke=\"black\" points=\"655,-82.5 655,-118.5 \"/>\n<text text-anchor=\"middle\" x=\"697.5\" y=\"-96.8\" font-family=\"Times,serif\" font-size=\"14.00\">data &#45;2.0000</text>\n<polyline fill=\"none\" stroke=\"black\" points=\"740,-82.5 740,-118.5 \"/>\n<text text-anchor=\"middle\" x=\"781\" y=\"-96.8\" font-family=\"Times,serif\" font-size=\"14.00\">grad 0.0000</text>\n</g>\n<!-- 136421389337696&#45;&gt;136421389346864* -->\n<g id=\"edge9\" class=\"edge\">\n<title>136421389337696&#45;&gt;136421389346864*</title>\n<path fill=\"none\" stroke=\"black\" d=\"M822.29,-83.65C831.57,-81.97 840.52,-80.35 848.61,-78.89\"/>\n<polygon fill=\"black\" stroke=\"black\" points=\"849.46,-82.3 858.68,-77.07 848.21,-75.41 849.46,-82.3\"/>\n</g>\n<!-- 136421382451312 -->\n<g id=\"node7\" class=\"node\">\n<title>136421382451312</title>\n<polygon fill=\"none\" stroke=\"black\" points=\"316,-0.5 316,-36.5 508,-36.5 508,-0.5 316,-0.5\"/>\n<text text-anchor=\"middle\" x=\"327.5\" y=\"-14.8\" font-family=\"Times,serif\" font-size=\"14.00\">c</text>\n<polyline fill=\"none\" stroke=\"black\" points=\"339,-0.5 339,-36.5 \"/>\n<text text-anchor=\"middle\" x=\"382.5\" y=\"-14.8\" font-family=\"Times,serif\" font-size=\"14.00\">data 10.0000</text>\n<polyline fill=\"none\" stroke=\"black\" points=\"426,-0.5 426,-36.5 \"/>\n<text text-anchor=\"middle\" x=\"467\" y=\"-14.8\" font-family=\"Times,serif\" font-size=\"14.00\">grad 0.0000</text>\n</g>\n<!-- 136421382451312&#45;&gt;136421389346672+ -->\n<g id=\"edge8\" class=\"edge\">\n<title>136421382451312&#45;&gt;136421389346672+</title>\n<path fill=\"none\" stroke=\"black\" d=\"M508.4,-34.91C517.69,-36.5 526.64,-38.04 534.71,-39.43\"/>\n<polygon fill=\"black\" stroke=\"black\" points=\"534.32,-42.91 544.76,-41.16 535.5,-36.02 534.32,-42.91\"/>\n</g>\n<!-- 136421389346672 -->\n<g id=\"node8\" class=\"node\">\n<title>136421389346672</title>\n<polygon fill=\"none\" stroke=\"black\" points=\"635.5,-27.5 635.5,-63.5 820.5,-63.5 820.5,-27.5 635.5,-27.5\"/>\n<text text-anchor=\"middle\" x=\"647\" y=\"-41.8\" font-family=\"Times,serif\" font-size=\"14.00\">d</text>\n<polyline fill=\"none\" stroke=\"black\" points=\"658.5,-27.5 658.5,-63.5 \"/>\n<text text-anchor=\"middle\" x=\"698.5\" y=\"-41.8\" font-family=\"Times,serif\" font-size=\"14.00\">data 4.0000</text>\n<polyline fill=\"none\" stroke=\"black\" points=\"738.5,-27.5 738.5,-63.5 \"/>\n<text text-anchor=\"middle\" x=\"779.5\" y=\"-41.8\" font-family=\"Times,serif\" font-size=\"14.00\">grad 0.0000</text>\n</g>\n<!-- 136421389346672&#45;&gt;136421389346864* -->\n<g id=\"edge7\" class=\"edge\">\n<title>136421389346672&#45;&gt;136421389346864*</title>\n<path fill=\"none\" stroke=\"black\" d=\"M820.51,-61.44C830.48,-63.18 840.13,-64.86 848.77,-66.36\"/>\n<polygon fill=\"black\" stroke=\"black\" points=\"848.31,-69.84 858.77,-68.1 849.52,-62.94 848.31,-69.84\"/>\n</g>\n<!-- 136421389346672+&#45;&gt;136421389346672 -->\n<g id=\"edge3\" class=\"edge\">\n<title>136421389346672+&#45;&gt;136421389346672</title>\n<path fill=\"none\" stroke=\"black\" d=\"M598.29,-45.5C606.26,-45.5 615.54,-45.5 625.39,-45.5\"/>\n<polygon fill=\"black\" stroke=\"black\" points=\"625.41,-49 635.41,-45.5 625.41,-42 625.41,-49\"/>\n</g>\n<!-- 136421382444448 -->\n<g id=\"node10\" class=\"node\">\n<title>136421382444448</title>\n<polygon fill=\"none\" stroke=\"black\" points=\"0,-28.5 0,-64.5 190,-64.5 190,-28.5 0,-28.5\"/>\n<text text-anchor=\"middle\" x=\"11.5\" y=\"-42.8\" font-family=\"Times,serif\" font-size=\"14.00\">b</text>\n<polyline fill=\"none\" stroke=\"black\" points=\"23,-28.5 23,-64.5 \"/>\n<text text-anchor=\"middle\" x=\"65.5\" y=\"-42.8\" font-family=\"Times,serif\" font-size=\"14.00\">data &#45;3.0000</text>\n<polyline fill=\"none\" stroke=\"black\" points=\"108,-28.5 108,-64.5 \"/>\n<text text-anchor=\"middle\" x=\"149\" y=\"-42.8\" font-family=\"Times,serif\" font-size=\"14.00\">grad 0.0000</text>\n</g>\n<!-- 136421382444448&#45;&gt;136421389344848* -->\n<g id=\"edge5\" class=\"edge\">\n<title>136421382444448&#45;&gt;136421389344848*</title>\n<path fill=\"none\" stroke=\"black\" d=\"M190.34,-62.83C199.62,-64.44 208.58,-65.99 216.66,-67.38\"/>\n<polygon fill=\"black\" stroke=\"black\" points=\"216.27,-70.87 226.72,-69.12 217.46,-63.97 216.27,-70.87\"/>\n</g>\n</g>\n</svg>\n",
            "text/plain": [
              "<graphviz.graphs.Digraph at 0x7c1314117490>"
            ]
          },
          "metadata": {},
          "execution_count": 11
        }
      ]
    },
    {
      "cell_type": "code",
      "source": [
        "L.grad=1.0\n",
        "d.grad=-2.0\n",
        "f.grad=4.0\n",
        "\n",
        "draw_dot(L)\n"
      ],
      "metadata": {
        "colab": {
          "base_uri": "https://localhost:8080/",
          "height": 247
        },
        "id": "f7zG8eXZ00X0",
        "outputId": "b22fc570-7e11-4c35-ce2f-75652e93edc2"
      },
      "execution_count": 14,
      "outputs": [
        {
          "output_type": "execute_result",
          "data": {
            "image/svg+xml": "<?xml version=\"1.0\" encoding=\"UTF-8\" standalone=\"no\"?>\n<!DOCTYPE svg PUBLIC \"-//W3C//DTD SVG 1.1//EN\"\n \"http://www.w3.org/Graphics/SVG/1.1/DTD/svg11.dtd\">\n<!-- Generated by graphviz version 2.43.0 (0)\n -->\n<!-- Title: %3 Pages: 1 -->\n<svg width=\"1149pt\" height=\"154pt\"\n viewBox=\"0.00 0.00 1149.00 154.00\" xmlns=\"http://www.w3.org/2000/svg\" xmlns:xlink=\"http://www.w3.org/1999/xlink\">\n<g id=\"graph0\" class=\"graph\" transform=\"scale(1 1) rotate(0) translate(4 150)\">\n<title>%3</title>\n<polygon fill=\"white\" stroke=\"transparent\" points=\"-4,4 -4,-150 1145,-150 1145,4 -4,4\"/>\n<!-- 136421389347872 -->\n<g id=\"node1\" class=\"node\">\n<title>136421389347872</title>\n<polygon fill=\"none\" stroke=\"black\" points=\"317,-27.5 317,-63.5 507,-63.5 507,-27.5 317,-27.5\"/>\n<text text-anchor=\"middle\" x=\"328.5\" y=\"-41.8\" font-family=\"Times,serif\" font-size=\"14.00\">e</text>\n<polyline fill=\"none\" stroke=\"black\" points=\"340,-27.5 340,-63.5 \"/>\n<text text-anchor=\"middle\" x=\"382.5\" y=\"-41.8\" font-family=\"Times,serif\" font-size=\"14.00\">data &#45;6.0000</text>\n<polyline fill=\"none\" stroke=\"black\" points=\"425,-27.5 425,-63.5 \"/>\n<text text-anchor=\"middle\" x=\"466\" y=\"-41.8\" font-family=\"Times,serif\" font-size=\"14.00\">grad 0.0000</text>\n</g>\n<!-- 136421382450880+ -->\n<g id=\"node5\" class=\"node\">\n<title>136421382450880+</title>\n<ellipse fill=\"none\" stroke=\"black\" cx=\"571\" cy=\"-72.5\" rx=\"27\" ry=\"18\"/>\n<text text-anchor=\"middle\" x=\"571\" y=\"-68.8\" font-family=\"Times,serif\" font-size=\"14.00\">+</text>\n</g>\n<!-- 136421389347872&#45;&gt;136421382450880+ -->\n<g id=\"edge5\" class=\"edge\">\n<title>136421389347872&#45;&gt;136421382450880+</title>\n<path fill=\"none\" stroke=\"black\" d=\"M507.05,-61.67C516.78,-63.35 526.18,-64.96 534.62,-66.42\"/>\n<polygon fill=\"black\" stroke=\"black\" points=\"534.3,-69.91 544.75,-68.16 535.49,-63.01 534.3,-69.91\"/>\n</g>\n<!-- 136421389347872* -->\n<g id=\"node2\" class=\"node\">\n<title>136421389347872*</title>\n<ellipse fill=\"none\" stroke=\"black\" cx=\"253\" cy=\"-45.5\" rx=\"27\" ry=\"18\"/>\n<text text-anchor=\"middle\" x=\"253\" y=\"-41.8\" font-family=\"Times,serif\" font-size=\"14.00\">*</text>\n</g>\n<!-- 136421389347872*&#45;&gt;136421389347872 -->\n<g id=\"edge1\" class=\"edge\">\n<title>136421389347872*&#45;&gt;136421389347872</title>\n<path fill=\"none\" stroke=\"black\" d=\"M280.28,-45.5C288.05,-45.5 297.08,-45.5 306.68,-45.5\"/>\n<polygon fill=\"black\" stroke=\"black\" points=\"306.88,-49 316.88,-45.5 306.88,-42 306.88,-49\"/>\n</g>\n<!-- 136421382708272 -->\n<g id=\"node3\" class=\"node\">\n<title>136421382708272</title>\n<polygon fill=\"none\" stroke=\"black\" points=\"0,-55.5 0,-91.5 190,-91.5 190,-55.5 0,-55.5\"/>\n<text text-anchor=\"middle\" x=\"11.5\" y=\"-69.8\" font-family=\"Times,serif\" font-size=\"14.00\">b</text>\n<polyline fill=\"none\" stroke=\"black\" points=\"23,-55.5 23,-91.5 \"/>\n<text text-anchor=\"middle\" x=\"65.5\" y=\"-69.8\" font-family=\"Times,serif\" font-size=\"14.00\">data &#45;3.0000</text>\n<polyline fill=\"none\" stroke=\"black\" points=\"108,-55.5 108,-91.5 \"/>\n<text text-anchor=\"middle\" x=\"149\" y=\"-69.8\" font-family=\"Times,serif\" font-size=\"14.00\">grad 0.0000</text>\n</g>\n<!-- 136421382708272&#45;&gt;136421389347872* -->\n<g id=\"edge9\" class=\"edge\">\n<title>136421382708272&#45;&gt;136421389347872*</title>\n<path fill=\"none\" stroke=\"black\" d=\"M190.34,-56.57C199.62,-54.9 208.58,-53.29 216.66,-51.84\"/>\n<polygon fill=\"black\" stroke=\"black\" points=\"217.49,-55.25 226.72,-50.04 216.26,-48.36 217.49,-55.25\"/>\n</g>\n<!-- 136421382450880 -->\n<g id=\"node4\" class=\"node\">\n<title>136421382450880</title>\n<polygon fill=\"none\" stroke=\"black\" points=\"634,-54.5 634,-90.5 823,-90.5 823,-54.5 634,-54.5\"/>\n<text text-anchor=\"middle\" x=\"645.5\" y=\"-68.8\" font-family=\"Times,serif\" font-size=\"14.00\">d</text>\n<polyline fill=\"none\" stroke=\"black\" points=\"657,-54.5 657,-90.5 \"/>\n<text text-anchor=\"middle\" x=\"697\" y=\"-68.8\" font-family=\"Times,serif\" font-size=\"14.00\">data 4.0000</text>\n<polyline fill=\"none\" stroke=\"black\" points=\"737,-54.5 737,-90.5 \"/>\n<text text-anchor=\"middle\" x=\"780\" y=\"-68.8\" font-family=\"Times,serif\" font-size=\"14.00\">grad &#45;2.0000</text>\n</g>\n<!-- 136421382450496* -->\n<g id=\"node7\" class=\"node\">\n<title>136421382450496*</title>\n<ellipse fill=\"none\" stroke=\"black\" cx=\"886\" cy=\"-99.5\" rx=\"27\" ry=\"18\"/>\n<text text-anchor=\"middle\" x=\"886\" y=\"-95.8\" font-family=\"Times,serif\" font-size=\"14.00\">*</text>\n</g>\n<!-- 136421382450880&#45;&gt;136421382450496* -->\n<g id=\"edge7\" class=\"edge\">\n<title>136421382450880&#45;&gt;136421382450496*</title>\n<path fill=\"none\" stroke=\"black\" d=\"M823.1,-88.75C832.4,-90.37 841.38,-91.93 849.49,-93.33\"/>\n<polygon fill=\"black\" stroke=\"black\" points=\"849.14,-96.83 859.59,-95.09 850.34,-89.93 849.14,-96.83\"/>\n</g>\n<!-- 136421382450880+&#45;&gt;136421382450880 -->\n<g id=\"edge2\" class=\"edge\">\n<title>136421382450880+&#45;&gt;136421382450880</title>\n<path fill=\"none\" stroke=\"black\" d=\"M598.03,-72.5C605.66,-72.5 614.52,-72.5 623.94,-72.5\"/>\n<polygon fill=\"black\" stroke=\"black\" points=\"623.94,-76 633.94,-72.5 623.94,-69 623.94,-76\"/>\n</g>\n<!-- 136421382450496 -->\n<g id=\"node6\" class=\"node\">\n<title>136421382450496</title>\n<polygon fill=\"none\" stroke=\"black\" points=\"949,-81.5 949,-117.5 1141,-117.5 1141,-81.5 949,-81.5\"/>\n<text text-anchor=\"middle\" x=\"961.5\" y=\"-95.8\" font-family=\"Times,serif\" font-size=\"14.00\">L</text>\n<polyline fill=\"none\" stroke=\"black\" points=\"974,-81.5 974,-117.5 \"/>\n<text text-anchor=\"middle\" x=\"1016.5\" y=\"-95.8\" font-family=\"Times,serif\" font-size=\"14.00\">data &#45;8.0000</text>\n<polyline fill=\"none\" stroke=\"black\" points=\"1059,-81.5 1059,-117.5 \"/>\n<text text-anchor=\"middle\" x=\"1100\" y=\"-95.8\" font-family=\"Times,serif\" font-size=\"14.00\">grad 1.0000</text>\n</g>\n<!-- 136421382450496*&#45;&gt;136421382450496 -->\n<g id=\"edge3\" class=\"edge\">\n<title>136421382450496*&#45;&gt;136421382450496</title>\n<path fill=\"none\" stroke=\"black\" d=\"M913.28,-99.5C920.78,-99.5 929.44,-99.5 938.67,-99.5\"/>\n<polygon fill=\"black\" stroke=\"black\" points=\"938.87,-103 948.87,-99.5 938.87,-96 938.87,-103\"/>\n</g>\n<!-- 136421382454192 -->\n<g id=\"node8\" class=\"node\">\n<title>136421382454192</title>\n<polygon fill=\"none\" stroke=\"black\" points=\"634.5,-109.5 634.5,-145.5 822.5,-145.5 822.5,-109.5 634.5,-109.5\"/>\n<text text-anchor=\"middle\" x=\"645\" y=\"-123.8\" font-family=\"Times,serif\" font-size=\"14.00\">f</text>\n<polyline fill=\"none\" stroke=\"black\" points=\"655.5,-109.5 655.5,-145.5 \"/>\n<text text-anchor=\"middle\" x=\"698\" y=\"-123.8\" font-family=\"Times,serif\" font-size=\"14.00\">data &#45;2.0000</text>\n<polyline fill=\"none\" stroke=\"black\" points=\"740.5,-109.5 740.5,-145.5 \"/>\n<text text-anchor=\"middle\" x=\"781.5\" y=\"-123.8\" font-family=\"Times,serif\" font-size=\"14.00\">grad 4.0000</text>\n</g>\n<!-- 136421382454192&#45;&gt;136421382450496* -->\n<g id=\"edge4\" class=\"edge\">\n<title>136421382454192&#45;&gt;136421382450496*</title>\n<path fill=\"none\" stroke=\"black\" d=\"M822.65,-110.73C832.2,-109.01 841.43,-107.35 849.72,-105.85\"/>\n<polygon fill=\"black\" stroke=\"black\" points=\"850.47,-109.27 859.69,-104.06 849.23,-102.39 850.47,-109.27\"/>\n</g>\n<!-- 136421389347776 -->\n<g id=\"node9\" class=\"node\">\n<title>136421389347776</title>\n<polygon fill=\"none\" stroke=\"black\" points=\"316,-82.5 316,-118.5 508,-118.5 508,-82.5 316,-82.5\"/>\n<text text-anchor=\"middle\" x=\"327.5\" y=\"-96.8\" font-family=\"Times,serif\" font-size=\"14.00\">c</text>\n<polyline fill=\"none\" stroke=\"black\" points=\"339,-82.5 339,-118.5 \"/>\n<text text-anchor=\"middle\" x=\"382.5\" y=\"-96.8\" font-family=\"Times,serif\" font-size=\"14.00\">data 10.0000</text>\n<polyline fill=\"none\" stroke=\"black\" points=\"426,-82.5 426,-118.5 \"/>\n<text text-anchor=\"middle\" x=\"467\" y=\"-96.8\" font-family=\"Times,serif\" font-size=\"14.00\">grad 0.0000</text>\n</g>\n<!-- 136421389347776&#45;&gt;136421382450880+ -->\n<g id=\"edge8\" class=\"edge\">\n<title>136421389347776&#45;&gt;136421382450880+</title>\n<path fill=\"none\" stroke=\"black\" d=\"M508.4,-83.49C517.69,-81.83 526.64,-80.23 534.71,-78.79\"/>\n<polygon fill=\"black\" stroke=\"black\" points=\"535.53,-82.2 544.76,-77 534.31,-75.31 535.53,-82.2\"/>\n</g>\n<!-- 136421382707168 -->\n<g id=\"node10\" class=\"node\">\n<title>136421382707168</title>\n<polygon fill=\"none\" stroke=\"black\" points=\"2.5,-0.5 2.5,-36.5 187.5,-36.5 187.5,-0.5 2.5,-0.5\"/>\n<text text-anchor=\"middle\" x=\"14\" y=\"-14.8\" font-family=\"Times,serif\" font-size=\"14.00\">a</text>\n<polyline fill=\"none\" stroke=\"black\" points=\"25.5,-0.5 25.5,-36.5 \"/>\n<text text-anchor=\"middle\" x=\"65.5\" y=\"-14.8\" font-family=\"Times,serif\" font-size=\"14.00\">data 2.0000</text>\n<polyline fill=\"none\" stroke=\"black\" points=\"105.5,-0.5 105.5,-36.5 \"/>\n<text text-anchor=\"middle\" x=\"146.5\" y=\"-14.8\" font-family=\"Times,serif\" font-size=\"14.00\">grad 0.0000</text>\n</g>\n<!-- 136421382707168&#45;&gt;136421389347872* -->\n<g id=\"edge6\" class=\"edge\">\n<title>136421382707168&#45;&gt;136421389347872*</title>\n<path fill=\"none\" stroke=\"black\" d=\"M187.65,-34.36C197.94,-36.14 207.91,-37.87 216.81,-39.41\"/>\n<polygon fill=\"black\" stroke=\"black\" points=\"216.26,-42.87 226.71,-41.12 217.45,-35.97 216.26,-42.87\"/>\n</g>\n</g>\n</svg>\n",
            "text/plain": [
              "<graphviz.graphs.Digraph at 0x7c13140a5990>"
            ]
          },
          "metadata": {},
          "execution_count": 14
        }
      ]
    }
  ]
}