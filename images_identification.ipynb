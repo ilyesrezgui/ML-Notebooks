{
  "nbformat": 4,
  "nbformat_minor": 0,
  "metadata": {
    "colab": {
      "provenance": []
    },
    "kernelspec": {
      "name": "python3",
      "display_name": "Python 3"
    },
    "language_info": {
      "name": "python"
    }
  },
  "cells": [
    {
      "cell_type": "markdown",
      "source": [
        "Check whether you're connected to internet or not, because we're gonna collection our data usong the internet and specificlly from google images\n",
        "* Insure You're connected to the net"
      ],
      "metadata": {
        "id": "ekJdj4jTcaI7"
      }
    },
    {
      "cell_type": "code",
      "execution_count": null,
      "metadata": {
        "colab": {
          "base_uri": "https://localhost:8080/"
        },
        "id": "qJRgd83qawR7",
        "outputId": "6cf87e00-f1ec-43db-d64e-22543bbadbbf"
      },
      "outputs": [
        {
          "output_type": "stream",
          "name": "stdout",
          "text": [
            "internet works fine\n"
          ]
        }
      ],
      "source": [
        "import socket,warnings\n",
        "try:\n",
        "    #set the default timeout for socket operations to 1 second. If a socket operation takes more than 1s to complete, it will be considered unsuccessful.\n",
        "    socket.setdefaulttimeout(1)\n",
        "    #created a socket object, where socket.AF_INET specifies you're using IPv4 family of adresses and socket.SOCK_STREAM specifies that is is a TCP type of connection\n",
        "    socket.socket(socket.AF_INET,socket.SOCK_STREAM).connect(('1.1.1.1', 53)) #then they try yo connect on the 1.1.1.1 IP adress on the port 53\n",
        "    print(\"internet works fine\")\n",
        "except socket.error as ex: raise Exception(\"STOP: No internet. Click '>|' in top right and set 'Internet' switch to on\")\n"
      ]
    },
    {
      "cell_type": "code",
      "source": [
        "!pip install duckduckgo_search\n"
      ],
      "metadata": {
        "id": "xKVyQ3sbrzIL"
      },
      "execution_count": null,
      "outputs": []
    },
    {
      "cell_type": "markdown",
      "source": [
        "* Collect your images from the internet based on a specific keyword"
      ],
      "metadata": {
        "id": "3igXfdW0rmAP"
      }
    },
    {
      "cell_type": "code",
      "source": [
        "from duckduckgo_search import ddg_images\n",
        "from fastcore.all import *\n",
        "\n",
        "def search_images(term, max_images=30):\n",
        "    print(f\"Searching for '{term}'\")\n",
        "    #return L(ddg_images(term, max_results=max_images))\n",
        "    return L(ddg_images(term, max_results=max_images)).itemgot('image')\n",
        "    #return L(ddg_images(term, max_results=max_images)).itemgot('url')\n",
        "\n",
        "\n",
        "\n",
        "#specify the term you want to look for on the internet , in this example we're using bird, and how many pivtures you want us to retrun\n",
        "urls = search_images('barbie photos', max_images=1)\n",
        "urls[0]\n",
        "print(urls)"
      ],
      "metadata": {
        "colab": {
          "base_uri": "https://localhost:8080/"
        },
        "id": "8k3OlOGOrttS",
        "outputId": "2425f7e5-7434-4630-e224-b61557bdd4da"
      },
      "execution_count": null,
      "outputs": [
        {
          "output_type": "stream",
          "name": "stdout",
          "text": [
            "Searching for 'barbie photos'\n",
            "['http://weknowyourdreams.com/images/barbie/barbie-07.jpg']\n"
          ]
        }
      ]
    }
  ]
}